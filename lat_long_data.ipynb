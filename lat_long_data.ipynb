{
 "cells": [
  {
   "cell_type": "markdown",
   "metadata": {},
   "source": [
    "Query for Data from https://console.cloud.google.com/bigquery?project=my-project-75222-gt\n",
    "\n",
    "SELECT date\n",
    "FROM `bigquery-public-data.covid19_open_data.covid19_open_data`\n",
    "WHERE country_name = '<COUNTRY_NAME>'\n",
    "and date = '2021-04-16'\n",
    "ORDER BY date desc\n",
    "LIMIT 16000"
   ]
  },
  {
   "cell_type": "code",
   "execution_count": 1,
   "metadata": {},
   "outputs": [],
   "source": [
    "import numpy as np\n",
    "import pandas as pd"
   ]
  },
  {
   "cell_type": "code",
   "execution_count": 2,
   "metadata": {},
   "outputs": [],
   "source": [
    "Brazil_data = pd.read_csv('Brazil_landl.csv')\n",
    "India_data = pd.read_csv('India_landl.csv')\n",
    "Mexico_data = pd.read_csv('Mexico_landl.csv')\n",
    "UK_data = pd.read_csv('UK_landl.csv')\n",
    "US_data = pd.read_csv('US_landl.csv')"
   ]
  },
  {
   "cell_type": "code",
   "execution_count": 3,
   "metadata": {},
   "outputs": [],
   "source": [
    "data_sets = [Brazil_data,India_data,Mexico_data,UK_data,US_data]"
   ]
  },
  {
   "cell_type": "code",
   "execution_count": 4,
   "metadata": {},
   "outputs": [
    {
     "name": "stdout",
     "output_type": "stream",
     "text": [
      "<class 'pandas.core.frame.DataFrame'>\n",
      "RangeIndex: 5616 entries, 0 to 5615\n",
      "Data columns (total 3 columns):\n",
      " #   Column     Non-Null Count  Dtype  \n",
      "---  ------     --------------  -----  \n",
      " 0   date       5616 non-null   object \n",
      " 1   latitude   5612 non-null   float64\n",
      " 2   longitude  5612 non-null   float64\n",
      "dtypes: float64(2), object(1)\n",
      "memory usage: 131.8+ KB\n",
      "<class 'pandas.core.frame.DataFrame'>\n",
      "RangeIndex: 749 entries, 0 to 748\n",
      "Data columns (total 3 columns):\n",
      " #   Column     Non-Null Count  Dtype  \n",
      "---  ------     --------------  -----  \n",
      " 0   date       749 non-null    object \n",
      " 1   latitude   720 non-null    float64\n",
      " 2   longitude  720 non-null    float64\n",
      "dtypes: float64(2), object(1)\n",
      "memory usage: 17.7+ KB\n",
      "<class 'pandas.core.frame.DataFrame'>\n",
      "RangeIndex: 2498 entries, 0 to 2497\n",
      "Data columns (total 3 columns):\n",
      " #   Column     Non-Null Count  Dtype  \n",
      "---  ------     --------------  -----  \n",
      " 0   date       2498 non-null   object \n",
      " 1   latitude   2110 non-null   float64\n",
      " 2   longitude  2110 non-null   float64\n",
      "dtypes: float64(2), object(1)\n",
      "memory usage: 58.7+ KB\n",
      "<class 'pandas.core.frame.DataFrame'>\n",
      "RangeIndex: 197 entries, 0 to 196\n",
      "Data columns (total 3 columns):\n",
      " #   Column     Non-Null Count  Dtype  \n",
      "---  ------     --------------  -----  \n",
      " 0   date       197 non-null    object \n",
      " 1   latitude   174 non-null    float64\n",
      " 2   longitude  174 non-null    float64\n",
      "dtypes: float64(2), object(1)\n",
      "memory usage: 4.7+ KB\n",
      "<class 'pandas.core.frame.DataFrame'>\n",
      "RangeIndex: 3285 entries, 0 to 3284\n",
      "Data columns (total 3 columns):\n",
      " #   Column     Non-Null Count  Dtype  \n",
      "---  ------     --------------  -----  \n",
      " 0   date       3285 non-null   object \n",
      " 1   latitude   3282 non-null   float64\n",
      " 2   longitude  3282 non-null   float64\n",
      "dtypes: float64(2), object(1)\n",
      "memory usage: 77.1+ KB\n"
     ]
    }
   ],
   "source": [
    "# Check for NULL values\n",
    "for data in data_sets:\n",
    "    data.info()"
   ]
  },
  {
   "cell_type": "markdown",
   "metadata": {},
   "source": [
    "# Drop NULL values"
   ]
  },
  {
   "cell_type": "code",
   "execution_count": 5,
   "metadata": {},
   "outputs": [
    {
     "name": "stdout",
     "output_type": "stream",
     "text": [
      "<class 'pandas.core.frame.DataFrame'>\n",
      "Int64Index: 5612 entries, 0 to 5615\n",
      "Data columns (total 3 columns):\n",
      " #   Column     Non-Null Count  Dtype  \n",
      "---  ------     --------------  -----  \n",
      " 0   date       5612 non-null   object \n",
      " 1   latitude   5612 non-null   float64\n",
      " 2   longitude  5612 non-null   float64\n",
      "dtypes: float64(2), object(1)\n",
      "memory usage: 175.4+ KB\n"
     ]
    }
   ],
   "source": [
    "Brazil_data = Brazil_data.dropna(axis = 0, how ='any')\n",
    "Brazil_data.info()"
   ]
  },
  {
   "cell_type": "code",
   "execution_count": 6,
   "metadata": {},
   "outputs": [
    {
     "name": "stdout",
     "output_type": "stream",
     "text": [
      "<class 'pandas.core.frame.DataFrame'>\n",
      "Int64Index: 720 entries, 0 to 748\n",
      "Data columns (total 3 columns):\n",
      " #   Column     Non-Null Count  Dtype  \n",
      "---  ------     --------------  -----  \n",
      " 0   date       720 non-null    object \n",
      " 1   latitude   720 non-null    float64\n",
      " 2   longitude  720 non-null    float64\n",
      "dtypes: float64(2), object(1)\n",
      "memory usage: 22.5+ KB\n"
     ]
    }
   ],
   "source": [
    "India_data = India_data.dropna(axis = 0, how ='any')\n",
    "India_data.info()"
   ]
  },
  {
   "cell_type": "code",
   "execution_count": 7,
   "metadata": {},
   "outputs": [
    {
     "name": "stdout",
     "output_type": "stream",
     "text": [
      "<class 'pandas.core.frame.DataFrame'>\n",
      "Int64Index: 2110 entries, 0 to 2497\n",
      "Data columns (total 3 columns):\n",
      " #   Column     Non-Null Count  Dtype  \n",
      "---  ------     --------------  -----  \n",
      " 0   date       2110 non-null   object \n",
      " 1   latitude   2110 non-null   float64\n",
      " 2   longitude  2110 non-null   float64\n",
      "dtypes: float64(2), object(1)\n",
      "memory usage: 65.9+ KB\n"
     ]
    }
   ],
   "source": [
    "Mexico_data = Mexico_data.dropna(axis = 0, how ='any')\n",
    "Mexico_data.info()"
   ]
  },
  {
   "cell_type": "code",
   "execution_count": 8,
   "metadata": {},
   "outputs": [
    {
     "name": "stdout",
     "output_type": "stream",
     "text": [
      "<class 'pandas.core.frame.DataFrame'>\n",
      "Int64Index: 174 entries, 0 to 196\n",
      "Data columns (total 3 columns):\n",
      " #   Column     Non-Null Count  Dtype  \n",
      "---  ------     --------------  -----  \n",
      " 0   date       174 non-null    object \n",
      " 1   latitude   174 non-null    float64\n",
      " 2   longitude  174 non-null    float64\n",
      "dtypes: float64(2), object(1)\n",
      "memory usage: 5.4+ KB\n"
     ]
    }
   ],
   "source": [
    "UK_data = UK_data.dropna(axis = 0, how ='any')\n",
    "UK_data.info()"
   ]
  },
  {
   "cell_type": "code",
   "execution_count": 9,
   "metadata": {},
   "outputs": [
    {
     "name": "stdout",
     "output_type": "stream",
     "text": [
      "<class 'pandas.core.frame.DataFrame'>\n",
      "Int64Index: 3282 entries, 0 to 3284\n",
      "Data columns (total 3 columns):\n",
      " #   Column     Non-Null Count  Dtype  \n",
      "---  ------     --------------  -----  \n",
      " 0   date       3282 non-null   object \n",
      " 1   latitude   3282 non-null   float64\n",
      " 2   longitude  3282 non-null   float64\n",
      "dtypes: float64(2), object(1)\n",
      "memory usage: 102.6+ KB\n"
     ]
    }
   ],
   "source": [
    "US_data = US_data.dropna(axis = 0, how ='any')\n",
    "US_data.info()"
   ]
  },
  {
   "cell_type": "markdown",
   "metadata": {},
   "source": [
    "# Drop date column"
   ]
  },
  {
   "cell_type": "code",
   "execution_count": 11,
   "metadata": {},
   "outputs": [],
   "source": [
    "Brazil_data = Brazil_data.drop(['date'], axis=1)\n",
    "India_data = India_data.drop(['date'], axis=1)\n",
    "Mexico_data = Mexico_data.drop(['date'], axis=1)\n",
    "UK_data = UK_data.drop(['date'], axis=1)\n",
    "US_data = US_data.drop(['date'], axis=1)"
   ]
  },
  {
   "cell_type": "markdown",
   "metadata": {},
   "source": [
    "# Concat all data together and export to csv"
   ]
  },
  {
   "cell_type": "code",
   "execution_count": 12,
   "metadata": {},
   "outputs": [
    {
     "data": {
      "text/html": [
       "<div>\n",
       "<style scoped>\n",
       "    .dataframe tbody tr th:only-of-type {\n",
       "        vertical-align: middle;\n",
       "    }\n",
       "\n",
       "    .dataframe tbody tr th {\n",
       "        vertical-align: top;\n",
       "    }\n",
       "\n",
       "    .dataframe thead th {\n",
       "        text-align: right;\n",
       "    }\n",
       "</style>\n",
       "<table border=\"1\" class=\"dataframe\">\n",
       "  <thead>\n",
       "    <tr style=\"text-align: right;\">\n",
       "      <th></th>\n",
       "      <th>latitude</th>\n",
       "      <th>longitude</th>\n",
       "    </tr>\n",
       "  </thead>\n",
       "  <tbody>\n",
       "    <tr>\n",
       "      <th>0</th>\n",
       "      <td>-0.975000</td>\n",
       "      <td>-62.923889</td>\n",
       "    </tr>\n",
       "    <tr>\n",
       "      <th>1</th>\n",
       "      <td>-7.432778</td>\n",
       "      <td>-70.022778</td>\n",
       "    </tr>\n",
       "    <tr>\n",
       "      <th>2</th>\n",
       "      <td>-3.142778</td>\n",
       "      <td>-58.443889</td>\n",
       "    </tr>\n",
       "    <tr>\n",
       "      <th>3</th>\n",
       "      <td>-8.720833</td>\n",
       "      <td>-39.115000</td>\n",
       "    </tr>\n",
       "    <tr>\n",
       "      <th>4</th>\n",
       "      <td>-11.616944</td>\n",
       "      <td>-38.800000</td>\n",
       "    </tr>\n",
       "    <tr>\n",
       "      <th>...</th>\n",
       "      <td>...</td>\n",
       "      <td>...</td>\n",
       "    </tr>\n",
       "    <tr>\n",
       "      <th>3280</th>\n",
       "      <td>32.591667</td>\n",
       "      <td>-88.204167</td>\n",
       "    </tr>\n",
       "    <tr>\n",
       "      <th>3281</th>\n",
       "      <td>34.683333</td>\n",
       "      <td>-83.750000</td>\n",
       "    </tr>\n",
       "    <tr>\n",
       "      <th>3282</th>\n",
       "      <td>33.599243</td>\n",
       "      <td>-83.858729</td>\n",
       "    </tr>\n",
       "    <tr>\n",
       "      <th>3283</th>\n",
       "      <td>31.780000</td>\n",
       "      <td>-84.140000</td>\n",
       "    </tr>\n",
       "    <tr>\n",
       "      <th>3284</th>\n",
       "      <td>33.580000</td>\n",
       "      <td>-83.170000</td>\n",
       "    </tr>\n",
       "  </tbody>\n",
       "</table>\n",
       "<p>11898 rows × 2 columns</p>\n",
       "</div>"
      ],
      "text/plain": [
       "       latitude  longitude\n",
       "0     -0.975000 -62.923889\n",
       "1     -7.432778 -70.022778\n",
       "2     -3.142778 -58.443889\n",
       "3     -8.720833 -39.115000\n",
       "4    -11.616944 -38.800000\n",
       "...         ...        ...\n",
       "3280  32.591667 -88.204167\n",
       "3281  34.683333 -83.750000\n",
       "3282  33.599243 -83.858729\n",
       "3283  31.780000 -84.140000\n",
       "3284  33.580000 -83.170000\n",
       "\n",
       "[11898 rows x 2 columns]"
      ]
     },
     "execution_count": 12,
     "metadata": {},
     "output_type": "execute_result"
    }
   ],
   "source": [
    "all_lat_long_data = pd.concat([Brazil_data,India_data,Mexico_data,UK_data,US_data])\n",
    "all_lat_long_data"
   ]
  },
  {
   "cell_type": "code",
   "execution_count": 14,
   "metadata": {},
   "outputs": [],
   "source": [
    "all_lat_long_data.to_csv('all_lat_long_data.csv', index=False)"
   ]
  }
 ],
 "metadata": {
  "kernelspec": {
   "display_name": "Python 3",
   "language": "python",
   "name": "python3"
  },
  "language_info": {
   "codemirror_mode": {
    "name": "ipython",
    "version": 3
   },
   "file_extension": ".py",
   "mimetype": "text/x-python",
   "name": "python",
   "nbconvert_exporter": "python",
   "pygments_lexer": "ipython3",
   "version": "3.7.6"
  }
 },
 "nbformat": 4,
 "nbformat_minor": 4
}
